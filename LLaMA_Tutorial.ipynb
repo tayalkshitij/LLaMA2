{
  "nbformat": 4,
  "nbformat_minor": 0,
  "metadata": {
    "colab": {
      "provenance": [],
      "toc_visible": true,
      "machine_shape": "hm",
      "gpuType": "V28",
      "authorship_tag": "ABX9TyPbsxo55wJCbT0WfXFyKuGs",
      "include_colab_link": true
    },
    "kernelspec": {
      "name": "python3",
      "display_name": "Python 3"
    },
    "language_info": {
      "name": "python"
    },
    "accelerator": "TPU"
  },
  "cells": [
    {
      "cell_type": "markdown",
      "metadata": {
        "id": "view-in-github",
        "colab_type": "text"
      },
      "source": [
        "<a href=\"https://colab.research.google.com/github/tayalkshitij/LLaMA2/blob/main/LLaMA_Tutorial.ipynb\" target=\"_parent\"><img src=\"https://colab.research.google.com/assets/colab-badge.svg\" alt=\"Open In Colab\"/></a>"
      ]
    },
    {
      "cell_type": "code",
      "execution_count": null,
      "metadata": {
        "id": "KjxSKtkyXY--"
      },
      "outputs": [],
      "source": [
        "# MIT License\n",
        "#\n",
        "#@title Copyright (c) Authors { display-mode: \"form\" }\n",
        "#\n",
        "# Permission is hereby granted, free of charge, to any person obtaining a\n",
        "# copy of this software and associated documentation files (the \"Software\"),\n",
        "# to deal in the Software without restriction, including without limitation\n",
        "# the rights to use, copy, modify, merge, publish, distribute, sublicense,\n",
        "# and/or sell copies of the Software, and to permit persons to whom the\n",
        "# Software is furnished to do so, subject to the following conditions:\n",
        "#\n",
        "# The above copyright notice and this permission notice shall be included in\n",
        "# all copies or substantial portions of the Software.\n",
        "#\n",
        "# THE SOFTWARE IS PROVIDED \"AS IS\", WITHOUT WARRANTY OF ANY KIND, EXPRESS OR\n",
        "# IMPLIED, INCLUDING BUT NOT LIMITED TO THE WARRANTIES OF MERCHANTABILITY,\n",
        "# FITNESS FOR A PARTICULAR PURPOSE AND NONINFRINGEMENT. IN NO EVENT SHALL\n",
        "# THE AUTHORS OR COPYRIGHT HOLDERS BE LIABLE FOR ANY CLAIM, DAMAGES OR OTHER\n",
        "# LIABILITY, WHETHER IN AN ACTION OF CONTRACT, TORT OR OTHERWISE, ARISING\n",
        "# FROM, OUT OF OR IN CONNECTION WITH THE SOFTWARE OR THE USE OR OTHER\n",
        "# DEALINGS IN THE SOFTWARE."
      ]
    },
    {
      "cell_type": "markdown",
      "source": [
        "<body>\n",
        "    <h1>Tutorial: Building LLaMA 2 in Pytorch</h1>\n",
        "    <p>Author(s):</p>\n",
        "    <ul>\n",
        "        <li>Kshitij Tayal, Oak Ridge National Labs, <a href=\"mailto:tayalk@ornl.gov\">tayalk@ornl.gov</a></li>\n",
        "        <li>Arvind Renganathan, Oak Ridge National Labs, <a href=\"mailto:renga016@umn.edu\">renganathana@ornl.gov</a></li>\n",
        "        <li>Dan Lu, Oak Ridge National Labs, <a href=\"mailto:lud1@ornl.gov\">lud1@ornl.gov</a></li>\n",
        "    </ul>\n",
        "    <p> This comprehensive tutorial will guide you through coding the open-source and widely popular LLaMA 2 language model from scratch using PyTorch. By breaking down the implementation of key architectural components and inference methods, we aim to provide you with a deep understanding of the inner workings of state-of-the-art language models. Throughout the tutorial, you will gain hands-on experience in building the LLaMA 2 model while exploring its components' mathematical foundations. We will cover essential concepts and techniques, such as attention mechanisms, transformers, and tokenization, empowering you to grasp the complexities of language modeling. By the end of this tutorial, you will have a solid grasp of the LLaMA 2 architecture and can harness the power of generative AI and apply it to your specific use cases, whether in natural language processing, text generation, or other related fields.</p>\n",
        "</body>\n",
        "\n"
      ],
      "metadata": {
        "id": "Z17L0SeOXyC2"
      }
    },
    {
      "cell_type": "markdown",
      "source": [
        "# Table of Contents\n",
        "\n",
        "\n",
        "*   [Overview](#overview)\n",
        "*   [Background & Prerequisites](#background-and-prereqs)\n",
        "*   [Software Requirements](#software-requirements)\n",
        "*   [Model Download](#data-description)\n",
        "*   [Model Architecture](#methodology)\n",
        "*   [Prompts](#prompts)\n",
        "*   [Limitation](#limitation)\n",
        "*   [References](#references)\n"
      ],
      "metadata": {
        "id": "VDZI8sCYYayj"
      }
    },
    {
      "cell_type": "markdown",
      "source": [
        "<a name=\"overview\"></a>\n",
        "\n",
        "\n",
        "\n",
        "\n",
        "\n",
        "# Overview\n",
        "\n",
        "<center>\n",
        "  <img src=\"https://raw.githubusercontent.com/tayalkshitij/LLaMA2/main/images/llama2_architecture.png\" width=\"700\">\n",
        "  <div>Image source: <a href=\"https://llama.meta.com/llama2/\"> Meta </a></div>\n",
        "</center>\n",
        "\n",
        "\n",
        "<p>\n",
        "        The figure illustrates the <strong>LLaMa 2</strong>, architecture. Below is the brief description of the components and processes depicted in the image:\n",
        "</p>\n",
        "\n",
        "\n",
        "\n",
        "## 1. Input Processing\n",
        "- The model starts with embeddings of the input tokens.\n",
        "- These embeddings are then passed through an RMS Normalization layer.\n",
        "\n",
        "## 2. Main Processing Block (Nx)\n",
        "This block is repeated N times, forming the core of the model:\n",
        "- Uses Rotary Positional Encodings for Q, K, and V\n",
        "- Implements Grouped Multi-Query Attention for efficiency\n",
        "- Utilizes a KV Cache to speed up sequential processing\n",
        "\n",
        "## 3. Feed Forward Network\n",
        "Uses SwiGLU activation function, an variant of GLU (Gated Linear Unit).\n",
        "\n",
        "## 4. After N repetitions of the main block:\n",
        "- RMS Normalization\n",
        "- Linear Layer: Projects to the vocabulary size\n",
        "- Softmax: Produces final token probabilities\n",
        "\n",
        "## Key Distinct Features\n",
        "- RMS Norm: Used instead of Layer Norm for faster computation\n",
        "- Rotary Positional Encodings: Allows the model to better understand token positions\n",
        "- Grouped Multi-Query Attention: Improves efficiency in the attention mechanism\n",
        "- SwiGLU Activation: Enhances the model's ability to capture complex patterns\n",
        "\n",
        "This architecture is designed to balance performance and efficiency, allowing the model to achieve strong results while being more computationally efficient than some other large language models.\n",
        "\n",
        "\n",
        "\n",
        "\n",
        "\n",
        "\n",
        "\n",
        "\n",
        "\n",
        "\n",
        "\n",
        "\n",
        "\n"
      ],
      "metadata": {
        "id": "lK_ITI5BZ2UA"
      }
    },
    {
      "cell_type": "markdown",
      "source": [
        "<a name=\"background-and-prereqs\"></a>\n",
        "# Background & Prerequisites\n",
        "\n",
        "This tutorial is designed for individuals with a basic programming experience in Python, Pytorch which will be helpful for understanding the code examples and implementations discussed. Although not strictly necessary, some familiarity with concepts in linear algebra, such as matrix multiplication and dot products, is beneficial. Knowledge of complex numbers and Euler's formula is a nice-to-have but not essential for grasping the core concepts. No prior expertise in machine learning is required as we will start with introductory concepts of the Transformer model, including its structure and the attention mechanism, offering step-by-step guidance through the Transformer architecture and its functionalities."
      ],
      "metadata": {
        "id": "LdFYJUy3eO2A"
      }
    },
    {
      "cell_type": "markdown",
      "source": [
        "## Videos\n",
        "For users looking to delve deeper, these videos offer detailed explanations and insights into the functioning and implementation of the LLaMa architecture."
      ],
      "metadata": {
        "id": "mkNC3oeYe0Xs"
      }
    },
    {
      "cell_type": "code",
      "source": [
        "from IPython.display import YouTubeVideo, display\n",
        "\n",
        "# Display the first video\n",
        "display(YouTubeVideo('Mn_9W1nCFLo'))\n",
        "\n",
        "# Display the second video\n",
        "display(YouTubeVideo('oM4VmoabDAI'))"
      ],
      "metadata": {
        "colab": {
          "base_uri": "https://localhost:8080/",
          "height": 626
        },
        "id": "scM7KP3bfI1P",
        "outputId": "28324d5a-3c16-4e9c-ced9-b826effcae87"
      },
      "execution_count": null,
      "outputs": [
        {
          "output_type": "display_data",
          "data": {
            "text/plain": [
              "<IPython.lib.display.YouTubeVideo at 0x7c6ee196a980>"
            ],
            "text/html": [
              "\n",
              "        <iframe\n",
              "            width=\"400\"\n",
              "            height=\"300\"\n",
              "            src=\"https://www.youtube.com/embed/Mn_9W1nCFLo\"\n",
              "            frameborder=\"0\"\n",
              "            allowfullscreen\n",
              "            \n",
              "        ></iframe>\n",
              "        "
            ],
            "image/jpeg": "[encoded data removed]"
          },
          "metadata": {}
        },
        {
          "output_type": "display_data",
          "data": {
            "text/plain": [
              "<IPython.lib.display.YouTubeVideo at 0x7c6ee1969d50>"
            ],
            "text/html": [
              "\n",
              "        <iframe\n",
              "            width=\"400\"\n",
              "            height=\"300\"\n",
              "            src=\"https://www.youtube.com/embed/oM4VmoabDAI\"\n",
              "            frameborder=\"0\"\n",
              "            allowfullscreen\n",
              "            \n",
              "        ></iframe>\n",
              "        "
            ],
            "image/jpeg": "[encoded data removed]"
          },
          "metadata": {}
        }
      ]
    },
    {
      "cell_type": "markdown",
      "source": [
        "## References\n",
        "\n",
        "These resources illustrate the applications of the LLaMA 2 foundational model, developed by Meta AI, highlighting its capabilities in natural language processing tasks, and comparing it with other machine learning models.\n",
        "\n",
        "\n",
        "1. Touvron, H., Lavril, T., Izacard, G., Martinet, X., Lachaux, M. A., Lacroix, T., ... & Lample, G. (2023). Llama 2: Open foundation and fine-tuned chat models. arXiv preprint arXiv:2307.09288. [Link to the article](https://arxiv.org/abs/2307.09288)\n"
      ],
      "metadata": {
        "id": "yLX1CZF5gsXb"
      }
    },
    {
      "cell_type": "markdown",
      "source": [
        "<a name=\"software-requirements\"></a>\n",
        "# Software Requirements\n"
      ],
      "metadata": {
        "id": "6qpx1D2siIg2"
      }
    },
    {
      "cell_type": "code",
      "source": [
        "# Standard library imports\n",
        "import glob\n",
        "import os\n",
        "import time\n",
        "import json\n",
        "from pathlib import Path\n",
        "import shutil\n",
        "import urllib.request\n",
        "import zipfile\n",
        "\n",
        "# Third-party library imports\n",
        "import importlib\n",
        "import matplotlib.pyplot as plt\n",
        "import numpy as np\n",
        "from numba import njit\n",
        "import pandas as pd\n",
        "import requests\n",
        "import seaborn as sns\n",
        "import torch\n",
        "from torch import nn\n",
        "import torch.nn.functional as F\n",
        "from sentencepiece import SentencePieceProcessor\n",
        "from dataclasses import dataclass\n",
        "from torch.utils.data import DataLoader, Dataset\n",
        "import tqdm\n",
        "from typing import List, Dict, Tuple,Optional"
      ],
      "metadata": {
        "id": "mA_n91F3iCIR"
      },
      "execution_count": null,
      "outputs": []
    },
    {
      "cell_type": "markdown",
      "source": [
        "<a name=\"data-description\"></a>\n",
        "# Model Download\n",
        "\n",
        "1. Go to https://llama.meta.com/llama-downloads/\n",
        "\n",
        "<center>\n",
        "  <img src=\"https://raw.githubusercontent.com/tayalkshitij/LLaMA2/main/images/access_form.png\" width=\"700\">\n",
        "</center>\n",
        "\n",
        "2. Enter Personal Details:\n",
        "  - **First Name & Last Name**: Enter your first and last names in the respective fields.\n",
        "  - **Date of Birth**: Select your birth month, day, and year from the dropdown menus.\n",
        "\n",
        "3. Contact Information:\n",
        "  - **Email**: Provide your email address.\n",
        "  - **Country / Region**: Choose your country or region from the dropdown menu.\n",
        "  - **Organization / Affiliation**: Optionally, add the name of your organization or affiliation.\n",
        "\n",
        "4. Select Models for Access:\n",
        "  - [ ] Meta Llama 3\n",
        "  - [x] Meta Llama 2\n",
        "  - [ ] Meta Code Llama\n",
        "  Select the checkboxes next to the models you wish to access.\n",
        "\n",
        "5. Safety Features:\n",
        "  - [x] Meta Llama Guard 2 (Recommended)\n",
        "  Check the box to add safety features to your model.\n",
        "\n",
        "6. Review and Submit:\n",
        "  - Ensure all the information is correct and click the submit button to complete your access request.\n",
        "\n",
        "\n",
        "  <center>\n",
        "  <img src=\"https://raw.githubusercontent.com/tayalkshitij/LLaMA2/main/images/llama_key.png\" width=\"700\">\n",
        "</center>"
      ],
      "metadata": {
        "id": "6EH9WcbjjTDJ"
      }
    },
    {
      "cell_type": "code",
      "source": [
        "def download_file(url, filename):\n",
        "    r = requests.get(url, stream=True)\n",
        "    with open(filename, 'wb') as f:\n",
        "        for chunk in r.iter_content(chunk_size=1024):\n",
        "            if chunk:\n",
        "                f.write(chunk)\n",
        "                f.flush()\n",
        "    print(f\"Downloaded {filename}\")\n",
        "\n",
        "def download_files(base_url):\n",
        "\n",
        "    files = [\n",
        "        (\"src/download.sh\", \"download.sh\"),\n",
        "        (\"src/model.py\", \"model.py\"),\n",
        "        (\"src/inference.py\", \"inference.py\")\n",
        "    ]\n",
        "\n",
        "    for file_path, filename in files:\n",
        "        url = base_url + file_path\n",
        "        download_file(url, filename)\n",
        "\n",
        "    print(\"All files downloaded successfully.\")\n",
        "\n",
        "base_url = \"https://raw.githubusercontent.com/tayalkshitij/LLaMA2/main/\"\n",
        "\n",
        "download_files(base_url)\n",
        "!chmod +x /content/download.sh\n",
        "!/content/download.sh"
      ],
      "metadata": {
        "colab": {
          "base_uri": "https://localhost:8080/"
        },
        "id": "lBRfH1_QiSXh",
        "outputId": "4fc5bba4-3862-40a4-835b-5ffce22dc0c3"
      },
      "execution_count": null,
      "outputs": [
        {
          "output_type": "stream",
          "name": "stdout",
          "text": [
            "Downloaded download.sh\n",
            "Downloaded model.py\n",
            "Downloaded inference.py\n",
            "All files downloaded successfully.\n",
            "Enter the URL from email: ^C\n"
          ]
        }
      ]
    },
    {
      "cell_type": "code",
      "source": [
        "import inference\n",
        "importlib.reload(inference)\n",
        "from inference import LLaMA\n",
        "\n",
        "allow_cuda = False\n",
        "device = 'cuda' if torch.cuda.is_available() and allow_cuda else 'cpu'\n",
        "device\n",
        "\n",
        "model = LLaMA.build(\n",
        "        checkpoints_dir='/content/llama-2-7b-chat/',\n",
        "        tokenizer_path='tokenizer.model',\n",
        "        load_model=True,\n",
        "        max_seq_len=1024,\n",
        "        max_batch_size=1,\n",
        "        device=device\n",
        "    )"
      ],
      "metadata": {
        "colab": {
          "base_uri": "https://localhost:8080/"
        },
        "id": "YRo8jGiVmddB",
        "outputId": "3a4bd090-0d97-4181-cd55-a22f8abbf9d2"
      },
      "execution_count": null,
      "outputs": [
        {
          "output_type": "stream",
          "name": "stdout",
          "text": [
            "Loading checkpoint \"/content/llama-2-7b-chat/consolidated.00.pth\"\n",
            "Loaded checkpoint in 8.47s\n",
            "Loaded state dict in 65.13s\n"
          ]
        }
      ]
    },
    {
      "cell_type": "code",
      "source": [
        "prompts = [\"Here is a funny story about a dog and a human in english\"]\n",
        "out_tokens, out_texts = (model.text_completion(prompts, max_gen_len=128))\n",
        "for i in range(len(out_texts)):\n",
        "  print(f'{out_texts[i]}')\n",
        "  print('-' * 50)"
      ],
      "metadata": {
        "colab": {
          "base_uri": "https://localhost:8080/"
        },
        "id": "Ntgf30mWnGV1",
        "outputId": "8276f802-da91-41bf-e533-6cdbaf5b4fab"
      },
      "execution_count": null,
      "outputs": [
        {
          "output_type": "stream",
          "name": "stderr",
          "text": [
            "Generating tokens: 100%|██████████| 143/143 [00:40<00:00,  3.54it/s]"
          ]
        },
        {
          "output_type": "stream",
          "name": "stdout",
          "text": [
            "Here is a funny story about a dog and a human in english.\n",
            "Once upon a time, there was a dog named Max. Max loved to play fetch with his owner, John. One day, John threw the ball really far and Max ran after it. But when Max came back, he didn't have the ball. He looked at John with a sad face and barked. John laughed and said, \"Don't worry, Max. I'll get it for you.\" But when John went to get the ball, it was gone. Max barked again and John laughed even harder.\n",
            "The next day, John threw the ball again and Max ran after it.\n",
            "--------------------------------------------------\n"
          ]
        },
        {
          "output_type": "stream",
          "name": "stderr",
          "text": [
            "\n"
          ]
        }
      ]
    },
    {
      "cell_type": "markdown",
      "source": [
        "<a name=\"methodology\"></a>\n",
        "# Model Architecture\n",
        "<center>\n",
        "  <img src=\"https://raw.githubusercontent.com/tayalkshitij/LLaMA2/main/images/llama2_architecture.png\" width=\"700\">\n",
        "  <div>Image source: <a href=\"https://llama.meta.com/llama2/\"> Meta </a></div>\n",
        "</center>"
      ],
      "metadata": {
        "id": "prb3XquxtHlr"
      }
    },
    {
      "cell_type": "markdown",
      "source": [
        "## EncoderBlock Class\n",
        "\n",
        "### Parameters:\n",
        "- `args`: An instance of `ModelArgs`, that contains configuration parameters.\n",
        "\n",
        "### Components:\n",
        "- **Number of Heads** (`self.n_heads`): Stores the number of attention heads.\n",
        "- **Dimensionality** (`self.dim`): Total dimensionality of the model.\n",
        "- **Head Dimension** (`self.head_dim`): Dimensionality of each attention head, calculated by dividing the total dimension by the number of heads.\n",
        "- **Attention Block** (`self.attention`): An instance of `SelfAttention`, initialized with `args`.\n",
        "- **Feed Forward Block** (`self.feed_forward`): An instance of `FeedForward`, initialized with `args`.\n",
        "- **Attention Normalization** (`self.attention_norm`): Applies RMS normalization before the attention block, initialized with the dimension and a small epsilon value for numerical stability.\n",
        "- **Feed Forward Normalization** (`self.ffn_norm`): Similar to `self.attention_norm`, but applies normalization before the feed-forward block.\n",
        "\n",
        "### Forward Method Parameters:\n",
        "  - `x`: The input tensor to the encoder block.\n",
        "  - `start_pos`: Start position for the attention mechanism.\n",
        "  - `freqs_complex`: A tensor representing frequency components, used in the attention calculations.\n",
        "\n",
        "### Process:\n",
        "  1. **Normalize and Apply Attention**:\n",
        "    - First, `x` is normalized using `self.attention_norm`.\n",
        "    - The normalized `x` is then passed to `self.attention` along with `start_pos` and `freqs_complex`.\n",
        "    - The result is added to the original input tensor `x` to create `h`.\n",
        "  2. **Normalize and Apply Feed Forward**:\n",
        "    - `h` is normalized using `self.ffn_norm`.\n",
        "    - The normalized `h` is passed to `self.feed_forward`.\n",
        "    - The output of `self.feed_forward` is added to `h` to create the final output tensor `out`.\n",
        "\n",
        "### Returns:\n",
        "- `out`: The output tensor of the encoder block is passed to the next block in the network.\n"
      ],
      "metadata": {
        "id": "zLljW2d_uRRu"
      }
    },
    {
      "cell_type": "code",
      "source": [
        "@dataclass\n",
        "class ModelArgs:\n",
        "    dim: int = 4096\n",
        "    n_layers: int = 32\n",
        "    n_heads: int = 32\n",
        "    n_kv_heads: Optional[int] = None\n",
        "    vocab_size: int = -1 # Later set in the build method\n",
        "    multiple_of: int = 256\n",
        "    ffn_dim_multiplier: Optional[float] = None\n",
        "    norm_eps: float = 1e-5\n",
        "\n",
        "    # Needed for KV cache\n",
        "    max_batch_size: int = 32\n",
        "    max_seq_len: int = 2048\n",
        "\n",
        "    device: str = None\n",
        "\n",
        "class EncoderBlock(nn.Module):\n",
        "\n",
        "    def __init__(self, args: ModelArgs):\n",
        "        super().__init__()\n",
        "\n",
        "        self.n_heads = args.n_heads\n",
        "        self.dim = args.dim\n",
        "        self.head_dim = args.dim // args.n_heads\n",
        "\n",
        "        self.attention = SelfAttention(args)\n",
        "        self.feed_forward = FeedForward(args)\n",
        "\n",
        "        # Normalization BEFORE the attention block\n",
        "        self.attention_norm = RMSNorm(args.dim, eps=args.norm_eps)\n",
        "        # Normalization BEFORE the feed forward block\n",
        "        self.ffn_norm = RMSNorm(args.dim, eps=args.norm_eps)\n",
        "\n",
        "    def forward(self, x: torch.Tensor, start_pos: int, freqs_complex: torch.Tensor):\n",
        "        # (B, Seq_Len, Dim) + (B, Seq_Len, Dim) --> (B, Seq_Len, Dim)\n",
        "        h = x + self.attention.forward(\n",
        "            self.attention_norm(x), start_pos, freqs_complex\n",
        "        )\n",
        "        # (B, Seq_Len, Dim) + (B, Seq_Len, Dim) --> (B, Seq_Len, Dim)\n",
        "        out = h + self.feed_forward.forward(self.ffn_norm(h))\n",
        "        return out"
      ],
      "metadata": {
        "id": "3WmuV1Q9vI-I"
      },
      "execution_count": null,
      "outputs": []
    },
    {
      "cell_type": "markdown",
      "source": [
        "##  RMS Normalization\n",
        "\n",
        "* Help stabilize training process and improve the convergence speed of the model.\n",
        "* RMS normalization is applied to the input of each sub-layer (self-attention,feed-forward, linear) before it is passed to the next layer.\n",
        "* Given an input tensor `x` with dimensions (batch size, sequence length, feature dimension), the RMSNorm operation is defined as follows:\n",
        "\n",
        "1. **Compute the mean square of the features across the last dimension:**-\n",
        "     $$\\text{mean\\_square} = \\frac{1}{D} \\sum_{i=1}^{D} x_i^2$$\n",
        "     Where \\(D\\) is the dimensionality of the feature space, and $x_i$ are the elements of the tensor $x$ along the last dimension.\n",
        "\n",
        "2. **Add a small constant $\\epsilon$ (epsilon) for numerical stability to the mean square:**\n",
        "   -\n",
        "    $$\\text{mean\\_square\\_adjusted} = \\text{mean\\_square} + \\epsilon$$\n",
        "\n",
        "3. **Calculate the root mean square by taking the square root of the adjusted mean square:** -\n",
        "     $$\\text{root\\_mean\\_square} = \\sqrt{\\text{mean\\_square\\_adjusted}}$$\n",
        "\n",
        "4. **Normalize the input tensor by dividing each element by the root mean square:**-\n",
        "     $$\\text{normalized\\_x} = \\frac{x}{\\text{root\\_mean\\_square}}$$\n",
        "\n",
        "5. **Apply a learnable scale parameter $\\gamma$ (gamma) to the normalized tensor:**-\n",
        "     $$\\text{output} = \\gamma \\times \\text{normalized\\_x}$$\n",
        "\n",
        "The complete equation for RMSNorm can be expressed as:\n",
        "$$\\text{output} = \\gamma \\times \\left(\\frac{x}{\\sqrt{\\frac{1}{D} \\sum_{i=1}^{D} x_i^2 + \\epsilon}}\\right)$$\n",
        "\n",
        "This operation effectively scales the input tensor while normalizing its features to have unit variance, adjusted by the small constant $\\epsilon$ for numerical stability, and scaled by the learnable parameter $\\gamma$."
      ],
      "metadata": {
        "id": "2ZzF9DXRxER9"
      }
    },
    {
      "cell_type": "code",
      "source": [
        "class RMSNorm(nn.Module):\n",
        "    def __init__(self, feature_dim: int, eps: float = 1e-6):\n",
        "        \"\"\"\n",
        "        Initialize the RMSNorm layer with specified feature dimensions and epsilon.\n",
        "\n",
        "        Args:\n",
        "            feature_dim (int): Dimensionality of the input feature space.\n",
        "            epsilon (float): A small constant added to the denominator for numerical stability.\n",
        "        \"\"\"\n",
        "        super().__init__()\n",
        "        self.epsilon = eps\n",
        "\n",
        "        self.scale = nn.Parameter(torch.ones(feature_dim)) # Learnable scale parameter initialized to ones.\n",
        "\n",
        "    def _normalize(self, x: torch.Tensor) -> torch.Tensor:\n",
        "        \"\"\"\n",
        "        Perform root mean square normalization on the last dimension of the tensor.\n",
        "\n",
        "        Args:\n",
        "            x (torch.Tensor): Input tensor with shape (batch_size, seq_len, feature_dim).\n",
        "\n",
        "        Returns:\n",
        "            torch.Tensor: Normalized tensor with the same shape as input.\n",
        "        \"\"\"\n",
        "        # Calculate the mean square along the last dimension and add epsilon for numerical stability.\n",
        "        mean_square = x.pow(2).mean(dim=-1, keepdim=True)\n",
        "        # Compute the root mean square and use it to normalize the tensor.\n",
        "        root_mean_square = torch.sqrt(mean_square + self.epsilon)\n",
        "        normalized_x = x / root_mean_square\n",
        "        return normalized_x\n",
        "\n",
        "    def forward(self, x: torch.Tensor) -> torch.Tensor:\n",
        "        \"\"\"\n",
        "        Normalize the input tensor and apply scaling.\n",
        "\n",
        "        Args:\n",
        "            x (torch.Tensor): Input tensor with shape (batch_size, seq_len, feature_dim).\n",
        "\n",
        "        Returns:\n",
        "            torch.Tensor: Scaled and normalized tensor with the same shape as input.\n",
        "        \"\"\"\n",
        "        # Ensure input tensor is float for computation\n",
        "        x = x.float()\n",
        "        # Normalize the tensor\n",
        "        normalized_x = self._normalize(x)\n",
        "        # Scale the normalized tensor and ensure the output has the same data type as input.\n",
        "        print (self.scale.shape,normalized_x.shape)\n",
        "        return self.scale * normalized_x.type_as(x)"
      ],
      "metadata": {
        "id": "JBAS9-kavbVb"
      },
      "execution_count": null,
      "outputs": []
    },
    {
      "cell_type": "markdown",
      "source": [
        "## Feed Forward SwiGLU\n",
        "\n",
        "<center>\n",
        "  <img src=\"https://raw.githubusercontent.com/tayalkshitij/LLaMA2/main/images/swiglu.png\" width=\"700\">\n",
        "  <div>Image source: <a href=\"https://deci.ai/blog/evolution-of-modern-transformer-swiglu-rope-gqa-attention-is-all-you-need/\"> Blog </a></div>\n",
        "</center>\n",
        "\n",
        "SwiGLU stands for **Swish Gated Linear Unit**. It combines the Swish activation function with a gating mechanism provided by the GLU. The SwiGLU activation function is defined as:\n",
        "\n",
        "\n",
        "### Attributes:\n",
        "1. `hidden_dim`: Initially set to four times the dimension (`dim`) specified in `args`, it's adjusted to two-thirds of its original size. If `args` contains a `ffn_dim_multiplier`, this value further scales `hidden_dim`.\n",
        "2. `multiple_of`: Ensures that `hidden_dim` rounds up to the nearest multiple of the `multiple_of` parameter from `args`.\n",
        "3. `w1, w2, w3`: Linear transformation layers that map input dimensions to `hidden_dim` and back without biases.\n",
        "\n",
        "### Process:\n",
        "- Compute the `hidden_dim` by first scaling the input dimension, applying a dimension multiplier if available, and rounding it to the nearest specified multiple.\n",
        "- Initialize three linear layers (`w1`, `w2`, `w3`):\n",
        "  - `w1`: Transforms the input dimension (`args.dim`) to `hidden_dim`.\n",
        "  - `w2`: Transforms `hidden_dim` back to the original dimension (`args.dim`).\n",
        "  - `w3`: Another transformation from `args.dim` to `hidden_dim`, possibly for a different functional purpose or representation within the network.\n",
        "\n",
        "### Forward Method Parameters:\n",
        "- `x`: A tensor of shape `(B, Seq_Len, Dim)`, where `B` is the batch size, `Seq_Len` is the sequence length, and `Dim` is the dimensionality of each sequence element.\n",
        "\n",
        "### Operations:\n",
        "1. **Swish Activation**: Applies the SiLU (Swish) activation function on the output of `w1`.\n",
        "2. **Transformation**: Transforms the original input `x` using `w3`.\n",
        "3. **Element-wise Multiplication**: Multiplies the output from the Swish activation with the transformed `x` from `w3`.\n",
        "4. **Final Transformation**: Passes the result through `w2` to project it back to the original dimension.\n",
        "\n",
        "### Output:\n",
        "- Returns a tensor of the same shape as the input (`x`), but with transformed representations."
      ],
      "metadata": {
        "id": "miK5gFDsx5kZ"
      }
    },
    {
      "cell_type": "code",
      "source": [
        "class FeedForward(nn.Module):\n",
        "    def __init__(self, args: ModelArgs):\n",
        "        super().__init__()\n",
        "\n",
        "        # Calculate the initial hidden dimension as four times the input dimension.\n",
        "        initial_hidden_dim = 4 * args.dim\n",
        "\n",
        "        # Reduce the hidden dimension to two-thirds of the initial dimension.\n",
        "        reduced_hidden_dim = int(2 * initial_hidden_dim / 3)\n",
        "\n",
        "        # If a multiplier is specified, scale the reduced dimension accordingly.\n",
        "        if args.ffn_dim_multiplier is not None:\n",
        "            scaled_hidden_dim = int(args.ffn_dim_multiplier * reduced_hidden_dim)\n",
        "        else:\n",
        "            scaled_hidden_dim = reduced_hidden_dim\n",
        "\n",
        "        # Ensure the scaled hidden dimension is a multiple of a specified base, rounding up.\n",
        "        self.hidden_dim = args.multiple_of * ((scaled_hidden_dim + args.multiple_of - 1) // args.multiple_of)\n",
        "\n",
        "        # Define linear transformation layers.\n",
        "        self.linear_transform_input_to_hidden = nn.Linear(args.dim, self.hidden_dim, bias=False)\n",
        "        self.linear_transform_hidden_to_output = nn.Linear(self.hidden_dim, args.dim, bias=False)\n",
        "        self.linear_transform_input_to_hidden_v = nn.Linear(args.dim, self.hidden_dim, bias=False)\n",
        "\n",
        "    def forward(self, x: torch.Tensor):\n",
        "        # Apply the SiLU activation function (also known as Swish) to the transformed input.\n",
        "        swish_output = F.silu(self.linear_transform_input_to_hidden(x))\n",
        "\n",
        "        # Transform the input again for a different representation.\n",
        "        x_v = self.linear_transform_input_to_hidden_v(x)\n",
        "\n",
        "        # Element-wise multiplication of the Swish output and the transformed input.\n",
        "        intermediate_output = swish_output * x_v\n",
        "\n",
        "        # Transform the intermediate output back to the original dimension.\n",
        "        final_output = self.linear_transform_hidden_to_output(intermediate_output)\n",
        "\n",
        "        return final_output\n"
      ],
      "metadata": {
        "id": "7j3e15_3z_3O"
      },
      "execution_count": null,
      "outputs": []
    },
    {
      "cell_type": "markdown",
      "source": [
        "## SelfAttention Class\n",
        "\n",
        "\n",
        "<center>\n",
        "  <img src=\"https://raw.githubusercontent.com/tayalkshitij/LLaMA2/main/images/multi-query.png\" width=\"800\">\n",
        "</center>\n",
        "\n",
        "<center>\n",
        "  <img src=\"https://raw.githubusercontent.com/tayalkshitij/LLaMA2/main/images/kv.png\" width=\"410\">\n",
        "  <img src=\"https://raw.githubusercontent.com/tayalkshitij/LLaMA2/main/images/kv2.png\" width=\"398\">\n",
        "</center>\n",
        "\n",
        "### Parameters:\n",
        "- `args`: An instance of `ModelArgs`, which contains configuration parameters.\n",
        "\n",
        "### Components:\n",
        "- **Number of Heads for Keys and Values (`self.n_kv_heads`)**: Configures the number of attention heads dedicated to keys and values. It defaults to `args.n_heads` unless `args.n_kv_heads` is explicitly specified.\n",
        "- **Number of Heads for Queries (`self.n_heads_q`)**: Sets the number of heads for queries.\n",
        "- **Repetition Factor (`self.n_rep`)**: Determines how many times the keys and values should be repeated, calculated by the integer division of `self.n_heads_q` by `self.n_kv_heads`.\n",
        "- **Head Dimension (`self.head_dim`)**: Dimension of each head, calculated by dividing the model's dimension by the number of heads.\n",
        "- **Query, Key, Value, and Output Weight Matrices**:\n",
        "  - `self.wq`: Linear transformation for queries.\n",
        "  - `self.wk`: Linear transformation for keys.\n",
        "  - `self.wv`: Linear transformation for values.\n",
        "  - `self.wo`: Output linear transformation.\n",
        "- **Cache for Keys and Values**:\n",
        "  - `self.cache_k`: Pre-allocated tensor for storing keys.\n",
        "  - `self.cache_v`: Pre-allocated tensor for storing values.\n",
        "\n",
        "\n",
        "### Forward Method Parameters:\n",
        "- `x`: The input tensor.\n",
        "- `start_pos`: Start position for updating the keys and values in the cache.\n",
        "- `freqs_complex`: A tensor representing frequency components, used in the rotary position encoding.\n",
        "\n",
        "### Process:\n",
        "1. **Linear Transformations**:\n",
        "   - Queries (`xq`), keys (`xk`), and values (`xv`) are transformed using their respective weight matrices.\n",
        "2. **Reshape for Attention Heads**:\n",
        "   - The transformed tensors are reshaped to separate the heads for processing.\n",
        "3. **Apply Rotary Embeddings**:\n",
        "   - Rotary position embeddings are applied to the reshaped query and key tensors to incorporate positional information.\n",
        "4. **Update Cache**:\n",
        "   - Keys and values are stored in the cache for subsequent operations.\n",
        "5. **Repeat Keys and Values**:\n",
        "   - Keys and values are repeated according to `self.n_rep` to align with the number of query heads.\n",
        "6. **Attention Computation**:\n",
        "   - Scores are computed using dot product attention, scaled by the square root of the head dimension.\n",
        "   - Softmax is applied to normalize the scores.\n",
        "   - The scores are then used to weigh the values, resulting in the attention output.\n",
        "7. **Final Linear Transformation**:\n",
        "   - The attention output is reshaped and passed through `self.wo` to produce the final output tensor matching the input dimension.\n",
        "\n",
        "### Returns:\n",
        "- The final output tensor after attention computation and transformation.\n",
        "\n"
      ],
      "metadata": {
        "id": "2gLy5mYW0rMk"
      }
    },
    {
      "cell_type": "code",
      "source": [
        "def repeat_kv(x: torch.Tensor, n_rep: int) -> torch.Tensor:\n",
        "    batch_size, seq_len, n_kv_heads, head_dim = x.shape\n",
        "    if n_rep == 1:\n",
        "        return x\n",
        "    return (\n",
        "        # (B, Seq_Len, N_KV_Heads, 1, Head_Dim)\n",
        "        x[:, :, :, None, :]\n",
        "        # (B, Seq_Len, N_KV_Heads, N_Rep, Head_Dim)\n",
        "        .expand(batch_size, seq_len, n_kv_heads, n_rep, head_dim)\n",
        "        # (B, Seq_Len, N_KV_Heads * N_Rep, Head_Dim)\n",
        "        .reshape(batch_size, seq_len, n_kv_heads * n_rep, head_dim)\n",
        "    )\n",
        "\n",
        "\n",
        "class SelfAttention(nn.Module):\n",
        "    def __init__(self, args: ModelArgs):\n",
        "        super().__init__()\n",
        "\n",
        "        # Indicates the number of heads for the Keys and Values\n",
        "        self.n_kv_heads = args.n_heads if args.n_kv_heads is None else args.n_kv_heads\n",
        "        # Indicates the number of heads for the Queries\n",
        "        self.n_heads_q = args.n_heads\n",
        "        # Indicates how many times the Keys and Values should be repeated\n",
        "        self.n_rep = self.n_heads_q // self.n_kv_heads\n",
        "        # Indicates the dimension of each head, that is, the part of the embedding that each head will be responsible for\n",
        "        self.head_dim = args.dim // args.n_heads\n",
        "\n",
        "        self.wq = nn.Linear(args.dim, args.n_heads * self.head_dim, bias=False)\n",
        "        self.wk = nn.Linear(args.dim, self.n_kv_heads * self.head_dim, bias=False)\n",
        "        self.wv = nn.Linear(args.dim, self.n_kv_heads * self.head_dim, bias=False)\n",
        "        self.wo = nn.Linear(args.n_heads * self.head_dim, args.dim, bias=False)\n",
        "\n",
        "        self.cache_k = torch.zeros((args.max_batch_size, args.max_seq_len, self.n_kv_heads, self.head_dim))\n",
        "        self.cache_v = torch.zeros((args.max_batch_size, args.max_seq_len, self.n_kv_heads, self.head_dim))\n",
        "\n",
        "    def forward(\n",
        "        self,\n",
        "        x: torch.Tensor,\n",
        "        start_pos: int,\n",
        "        freqs_complex: torch.Tensor\n",
        "    ):\n",
        "        batch_size, seq_len, _ = x.shape  # (B, 1, Dim)\n",
        "\n",
        "        # (B, 1, Dim) -> (B, 1, H_Q * Head_Dim)\n",
        "        xq = self.wq(x)\n",
        "        # (B, 1, Dim) -> (B, 1, H_KV * Head_Dim)\n",
        "        xk = self.wk(x)\n",
        "        # (B, 1, Dim) -> (B, 1, H_KV * Head_Dim)\n",
        "        xv = self.wv(x)\n",
        "\n",
        "        # (B, 1, H_Q * Head_Dim) -> (B, 1, H_Q, Head_Dim)\n",
        "        xq = xq.view(batch_size, seq_len, self.n_heads_q, self.head_dim)\n",
        "        # (B, 1, H_KV * Head_Dim) -> (B, 1, H_KV, Head_Dim)\n",
        "        xk = xk.view(batch_size, seq_len, self.n_kv_heads, self.head_dim)\n",
        "        # (B, 1, H_KV * Head_Dim) -> (B, 1, H_KV, Head_Dim)\n",
        "        xv = xv.view(batch_size, seq_len, self.n_kv_heads, self.head_dim)\n",
        "\n",
        "        # (B, 1, H_Q, Head_Dim) --> (B, 1, H_Q, Head_Dim)\n",
        "        xq = apply_rotary_embeddings(xq, freqs_complex, device=x.device)\n",
        "        # (B, 1, H_KV, Head_Dim) --> (B, 1, H_KV, Head_Dim)\n",
        "        xk = apply_rotary_embeddings(xk, freqs_complex, device=x.device)\n",
        "\n",
        "        # Replace the entry in the cache\n",
        "        self.cache_k[:batch_size, start_pos : start_pos + seq_len] = xk\n",
        "        self.cache_v[:batch_size, start_pos : start_pos + seq_len] = xv\n",
        "\n",
        "        # (B, Seq_Len_KV, H_KV, Head_Dim)\n",
        "        keys = self.cache_k[:batch_size, : start_pos + seq_len]\n",
        "        # (B, Seq_Len_KV, H_KV, Head_Dim)\n",
        "        values = self.cache_v[:batch_size, : start_pos + seq_len]\n",
        "\n",
        "        # Since every group of Q shares the same K and V heads, just repeat the K and V heads for every Q in the same group.\n",
        "\n",
        "        # (B, Seq_Len_KV, H_KV, Head_Dim) --> (B, Seq_Len_KV, H_Q, Head_Dim)\n",
        "        keys = repeat_kv(keys, self.n_rep)\n",
        "        # (B, Seq_Len_KV, H_KV, Head_Dim) --> (B, Seq_Len_KV, H_Q, Head_Dim)\n",
        "        values = repeat_kv(values, self.n_rep)\n",
        "\n",
        "        # (B, 1, H_Q, Head_Dim) -> (B, H_Q, 1, Head_Dim)\n",
        "        xq = xq.transpose(1, 2)\n",
        "        # (B, Seq_Len_KV, H_Q, Head_Dim) -> (B, H_Q, Seq_Len_KV, Head_Dim)\n",
        "        keys = keys.transpose(1, 2)\n",
        "        # (B, Seq_Len_KV, H_Q, Head_Dim) -> (B, H_Q, Seq_Len_KV, Head_Dim)\n",
        "        values = values.transpose(1, 2)\n",
        "\n",
        "        # (B, H_Q, 1, Head_Dim) @ (B, H_Q, Head_Dim, Seq_Len_KV) -> (B, H_Q, 1, Seq_Len_KV)\n",
        "        scores = torch.matmul(xq, keys.transpose(2, 3)) / math.sqrt(self.head_dim)\n",
        "        # (B, H_Q, 1, Seq_Len_KV) -> (B, H_Q, 1, Seq_Len_KV)\n",
        "        scores = F.softmax(scores.float(), dim=-1).type_as(xq)\n",
        "\n",
        "        # (B, H_Q, 1, Seq_Len) @ (B, H_Q, Seq_Len_KV, Head_Dim) -> (B, H_Q, 1, Head_Dim)\n",
        "        output = torch.matmul(scores, values)\n",
        "        # (B, H_Q, 1, Head_Dim) -> (B, 1, H_Q, Head_Dim) -> (B, 1, Dim)\n",
        "        output = (output.transpose(1, 2).contiguous().view(batch_size, seq_len, -1))\n",
        "        return self.wo(output) # (B, 1, Dim) -> (B, 1, Dim)\n"
      ],
      "metadata": {
        "id": "z1-NmmXe1PFu"
      },
      "execution_count": null,
      "outputs": []
    },
    {
      "cell_type": "markdown",
      "source": [
        "## Rotary Position Embeddings\n",
        "\n",
        "<center>\n",
        "  <img src=\"https://raw.githubusercontent.com/tayalkshitij/LLaMA2/main/images/roformer.png\" width=\"800\">\n",
        "   <div>Image source: <a href=\"https://arxiv.org/abs/2104.09864\"> RoFormer Paper </a></div>\n",
        "</center>\n",
        "\n",
        "<center>\n",
        "  <img src=\"https://raw.githubusercontent.com/tayalkshitij/LLaMA2/main/images/rota.png\" width=\"800\">\n",
        "   <div>Image source: <a href=\"https://arxiv.org/abs/2104.09864\">RoFormer Paper </a></div>\n",
        "</center>\n",
        "\n",
        "### Function: `precompute_theta_pos_frequencies`\n",
        "\n",
        "This function computes position frequencies to be used in rotary position embeddings.\n",
        "\n",
        "### Parameters:\n",
        "- `head_dim`: The dimensionality of each head in the transformer model. Must be an even number.\n",
        "- `seq_len`: The sequence length of the input.\n",
        "- `device`: The device (CPU or GPU) where computations will be performed.\n",
        "- `theta`: A scaling factor used in computing position frequencies, defaulting to 10000.0.\n",
        "\n",
        "### Process:\n",
        "1. **Validation**:\n",
        "   - Asserts that `head_dim` is divisible by 2 to ensure compatibility with complex number calculations.\n",
        "2. **Theta Calculation**:\n",
        "   - Calculates the `theta` values based on the formula provided, effectively scaling down with each successive element.\n",
        "3. **Position Vector (`m`)**:\n",
        "   - Generates a sequence of integers from 0 to `seq_len - 1`, representing each position in the sequence.\n",
        "4. **Outer Product**:\n",
        "   - Computes the outer product of the position vector with the `theta` values, resulting in a matrix of frequencies.\n",
        "5. **Complex Numbers**:\n",
        "   - Converts the frequency values into complex numbers in polar form, which represent the phase shifts needed for the rotary embeddings.\n",
        "\n",
        "### Returns:\n",
        "- `freqs_complex`: A tensor of complex numbers representing the position frequencies in polar form.\n",
        "\n",
        "## Function: `apply_rotary_embeddings`\n",
        "\n",
        "Applies rotary position embeddings to an input tensor, rotating each element in the frequency domain.\n",
        "\n",
        "### Parameters:\n",
        "- `x`: The input tensor to which rotary embeddings are applied.\n",
        "- `freqs_complex`: The precomputed complex frequencies for position embeddings.\n",
        "- `device`: The device on which the operation is performed.\n",
        "\n",
        "### Process:\n",
        "1. **Complex Conversion**:\n",
        "   - Reshapes and converts the input tensor `x` into complex numbers, where every two consecutive elements along the last dimension form a complex number.\n",
        "2. **Reshape Frequencies**:\n",
        "   - Adjusts the shape of `freqs_complex` to match the input tensor by adding singleton dimensions for batch and head alignment.\n",
        "3. **Element-wise Multiplication**:\n",
        "   - Performs element-wise multiplication of the complex numbers in `x` with the corresponding frequencies, effectively rotating the values in the complex plane.\n",
        "4. **Convert Back to Real**:\n",
        "   - Converts the rotated complex numbers back into a real-valued tensor.\n",
        "   \n",
        "### Returns:\n",
        "- `x_out`: The input tensor with applied rotary embeddings, transformed back to its original real number format and device.\n",
        "\n"
      ],
      "metadata": {
        "id": "aQN1IC0M4rb0"
      }
    },
    {
      "cell_type": "code",
      "source": [
        "def precompute_theta_pos_frequencies(head_dim: int, seq_len: int, device: str, theta: float = 10000.0):\n",
        "    # As written in the paragraph 3.2.2 of the paper\n",
        "    # >> In order to generalize our results in 2D to any xi ∈ Rd where **d is even**, [...]\n",
        "    assert head_dim % 2 == 0, \"Dimension must be divisible by 2\"\n",
        "    # Build the theta parameter\n",
        "    # According to the formula theta_i = 10000^(-2(i-1)/dim) for i = [1, 2, ... dim/2]\n",
        "    # Shape: (Head_Dim / 2)\n",
        "    theta_numerator = torch.arange(0, head_dim, 2).float()\n",
        "    # Shape: (Head_Dim / 2)\n",
        "    theta = 1.0 / (theta ** (theta_numerator / head_dim)).to(device) # (Dim / 2)\n",
        "    # Construct the positions (the \"m\" parameter)\n",
        "    # Shape: (Seq_Len)\n",
        "    m = torch.arange(seq_len, device=device)\n",
        "    # Multiply each theta by each position using the outer product.\n",
        "    # Shape: (Seq_Len) outer_product* (Head_Dim / 2) -> (Seq_Len, Head_Dim / 2)\n",
        "    freqs = torch.outer(m, theta).float()\n",
        "    # We can compute complex numbers in the polar form c = R * exp(m * theta), where R = 1 as follows:\n",
        "    # (Seq_Len, Head_Dim / 2) -> (Seq_Len, Head_Dim / 2)\n",
        "    freqs_complex = torch.polar(torch.ones_like(freqs), freqs)\n",
        "    return freqs_complex\n",
        "\n",
        "def apply_rotary_embeddings(x: torch.Tensor, freqs_complex: torch.Tensor, device: str):\n",
        "    # Separate the last dimension pairs of two values, representing the real and imaginary parts of the complex number\n",
        "    # Two consecutive values will become a single complex number\n",
        "    # (B, Seq_Len, H, Head_Dim) -> (B, Seq_Len, H, Head_Dim/2)\n",
        "    x_complex = torch.view_as_complex(x.float().reshape(*x.shape[:-1], -1, 2))\n",
        "    # Reshape the freqs_complex tensor to match the shape of the x_complex tensor. So we need to add the batch dimension and the head dimension\n",
        "    # (Seq_Len, Head_Dim/2) --> (1, Seq_Len, 1, Head_Dim/2)\n",
        "    freqs_complex = freqs_complex.unsqueeze(0).unsqueeze(2)\n",
        "    # Multiply each complex number in the x_complex tensor by the corresponding complex number in the freqs_complex tensor\n",
        "    # Which results in the rotation of the complex number as shown in the Figure 1 of the paper\n",
        "    # (B, Seq_Len, H, Head_Dim/2) * (1, Seq_Len, 1, Head_Dim/2) = (B, Seq_Len, H, Head_Dim/2)\n",
        "    x_rotated = x_complex * freqs_complex\n",
        "    # Convert the complex number back to the real number\n",
        "    # (B, Seq_Len, H, Head_Dim/2) -> (B, Seq_Len, H, Head_Dim/2, 2)\n",
        "    x_out = torch.view_as_real(x_rotated)\n",
        "    # (B, Seq_Len, H, Head_Dim/2, 2) -> (B, Seq_Len, H, Head_Dim)\n",
        "    x_out = x_out.reshape(*x.shape)\n",
        "    return x_out.type_as(x).to(device)"
      ],
      "metadata": {
        "id": "BxQ1M-CE4tK6"
      },
      "execution_count": null,
      "outputs": []
    },
    {
      "cell_type": "markdown",
      "source": [
        "## LLaMA2\n",
        "\n",
        "\n",
        "### Parameters:\n",
        "- `args`: An instance of `ModelArgs` containing necessary configuration parameters such as vocabulary size, number of layers, dimensions, etc.\n",
        "\n",
        "### Components:\n",
        "1. **Vocabulary Size Check**:\n",
        "   - Ensures that the vocabulary size (`vocab_size`) is  set and not equal to `-1`.\n",
        "2. **Model Configuration**:\n",
        "   - Initializes model configurations from `args`, including `vocab_size`, `n_layers` (number of layers), and dimensionality.\n",
        "3. **Token Embeddings**:\n",
        "   - Creates an embedding matrix `self.tok_embeddings` for converting token IDs to vectors, sized `[vocab_size, dim]`.\n",
        "4. **Encoder Blocks**:\n",
        "   - Constructs a sequence of `EncoderBlock` instances stored in `self.layers`, each configured via `args`.\n",
        "5. **Normalization**:\n",
        "   - Applies RMS normalization (`self.norm`) after all encoder layers to stabilize learning.\n",
        "6. **Output Layer**:\n",
        "   - A linear transformation (`self.output`) maps the final output of the transformer back to the vocabulary space.\n",
        "7. **Precomputed Frequencies**:\n",
        "   - Calls `precompute_theta_pos_frequencies` to calculate the frequency components for rotary position embeddings, based on the model's dimensions and maximum sequence length.\n",
        "\n",
        "### Forward Method Parameters:\n",
        "- `tokens`: A tensor containing input token IDs.\n",
        "- `start_pos`: The starting position of the input tokens for applying positional embeddings.\n",
        "\n",
        "### Process:\n",
        "1. **Input Shape Check**:\n",
        "   - Ensures that only one token at a time is processed, asserting that the sequence length from the input shape is 1.\n",
        "2. **Embedding Lookup**:\n",
        "   - Converts token IDs to vectors using the token embedding matrix.\n",
        "3. **Positional Embeddings**:\n",
        "   - Retrieves precomputed complex frequency components corresponding to current positions from `start_pos` to `start_pos + seq_len`.\n",
        "4. **Encoder Processing**:\n",
        "   - Passes the embedded tokens through each `EncoderBlock` consecutively, updating the hidden state `h` at each step.\n",
        "5. **Normalization and Output**:\n",
        "   - Normalizes the output of the last encoder layer using `self.norm`.\n",
        "   - Transforms the normalized hidden state to the vocabulary space using `self.output`, converting it to floating-point format.\n",
        "\n",
        "### Returns:\n",
        "- **output**: The final output tensor representing the transformer's prediction for the input tokens.\n",
        "\n"
      ],
      "metadata": {
        "id": "3e-lmjIl7TV6"
      }
    },
    {
      "cell_type": "code",
      "source": [
        "class LLaMA2(nn.Module):\n",
        "\n",
        "    def __init__(self, args: ModelArgs):\n",
        "        super().__init__()\n",
        "\n",
        "        assert args.vocab_size != -1, \"Vocab size must be set\"\n",
        "\n",
        "        self.args = args\n",
        "        self.vocab_size = args.vocab_size\n",
        "        self.n_layers = args.n_layers\n",
        "        self.tok_embeddings = nn.Embedding(self.vocab_size, args.dim)\n",
        "\n",
        "        self.layers = nn.ModuleList()\n",
        "        for layer_id in range(args.n_layers):\n",
        "            self.layers.append(EncoderBlock(args))\n",
        "\n",
        "        self.norm = RMSNorm(args.dim, eps=args.norm_eps)\n",
        "        self.output = nn.Linear(args.dim, self.vocab_size, bias=False)\n",
        "\n",
        "        self.freqs_complex = precompute_theta_pos_frequencies(self.args.dim // self.args.n_heads, self.args.max_seq_len * 2, device=self.args.device)\n",
        "\n",
        "    def forward(self, tokens: torch.Tensor, start_pos: int):\n",
        "        # (B, Seq_Len)\n",
        "        batch_size, seq_len = tokens.shape\n",
        "        assert seq_len == 1, \"Only one token at a time can be processed\"\n",
        "\n",
        "        h = self.tok_embeddings(tokens)\n",
        "\n",
        "        # Retrieve the pairs (m, theta) corresponding to the positions [start_pos, start_pos + seq_len]\n",
        "        freqs_complex = self.freqs_complex[start_pos:start_pos + seq_len]\n",
        "\n",
        "        # Consecutively apply all the encoder layers\n",
        "        for layer in self.layers:\n",
        "            h = layer(h, start_pos, freqs_complex)\n",
        "        h = self.norm(h)\n",
        "        output = self.output(h).float()\n",
        "        return output"
      ],
      "metadata": {
        "id": "QgR7BDXj8OnT"
      },
      "execution_count": null,
      "outputs": []
    },
    {
      "cell_type": "markdown",
      "source": [
        "## Bulding Trained LLaMA2\n",
        "\n",
        "### Parameters:\n",
        "- `model`: An instance of the `LLaMA2` class.\n",
        "- `tokenizer`: An instance of `SentencePieceProcessor` used for tokenizing text.\n",
        "- `model_args`: An instance of `ModelArgs` containing configuration parameters.\n",
        "\n",
        "\n",
        "\n",
        "### Static Method:\n",
        "\n",
        "- `build`: This method initializes a LLaMA model from specified checkpoints and tokenizer information.\n",
        "\n",
        "### Parameters:\n",
        "- `checkpoints_dir`: Directory path where model checkpoints are stored.\n",
        "- `tokenizer_path`: File path to the tokenizer model.\n",
        "- `load_model`: Boolean flag indicating whether to load a model from checkpoints.\n",
        "- `max_seq_len`: Maximum sequence length the model will handle.\n",
        "- `max_batch_size`: Maximum batch size for processing.\n",
        "- `device`: The compute device (`cuda` or `cpu`).\n",
        "\n",
        "### Process:\n",
        "\n",
        "1. **Checkpoint Loading**:\n",
        "   - If `load_model` is True, loads the most recent checkpoint from the specified directory after validating its existence.\n",
        "   - Reports the time taken to load the checkpoint.\n",
        "2. **Configuration Loading**:\n",
        "   - Loads model parameters from a JSON file in the checkpoints directory.\n",
        "3. **Tokenizer Setup**:\n",
        "   - Initializes and configures the `SentencePieceProcessor` tokenizer using the provided path.\n",
        "4. **Model Argument Configuration**:\n",
        "   - Sets up `ModelArgs` with parameters from the loaded JSON file, along with `max_seq_len`, `max_batch_size`, and the `vocab_size` derived from the tokenizer.\n",
        "5. **State Dictionary Loading**:\n",
        "   - If a model is loaded, updates the state dictionary of the `Transformer` model to match the loaded checkpoint, excluding any unmatched keys.\n",
        "\n",
        "### Returns:\n",
        "- A  instance of `Trained_LLaMA2` initialized with the `Transformer` model, tokenizer, and configuration.\n",
        "\n"
      ],
      "metadata": {
        "id": "AQKJE7B58hFy"
      }
    },
    {
      "cell_type": "code",
      "source": [
        "class Trained_LLaMA2:\n",
        "\n",
        "    def __init__(self, model: LLaMA2, tokenizer: SentencePieceProcessor, model_args: ModelArgs):\n",
        "        self.model = model\n",
        "        self.tokenizer = tokenizer\n",
        "        self.args = model_args\n",
        "\n",
        "    @staticmethod\n",
        "    def build(checkpoints_dir: str, tokenizer_path: str, load_model: bool, max_seq_len: int, max_batch_size: int, device: str):\n",
        "        prev_time = time.time()\n",
        "        if load_model:\n",
        "            checkpoints = sorted(Path(checkpoints_dir).glob(\"*.pth\"))\n",
        "            assert len(checkpoints) > 0, f\"no checkpoint files found in {checkpoints_dir}\"\n",
        "            ckpt_path = checkpoints[0]\n",
        "            print(f'Loading checkpoint \"{ckpt_path}\"')\n",
        "            checkpoint = torch.load(ckpt_path, map_location=\"cpu\")\n",
        "            print(f\"Loaded checkpoint in {time.time() - prev_time:.2f}s\")\n",
        "            prev_time = time.time()\n",
        "        with open(Path(checkpoints_dir) / \"params.json\", \"r\") as f:\n",
        "            params = json.loads(f.read())\n",
        "\n",
        "        model_args: ModelArgs = ModelArgs(\n",
        "            max_seq_len=max_seq_len,\n",
        "            max_batch_size=max_batch_size,\n",
        "            device=device,\n",
        "            **params\n",
        "        )\n",
        "\n",
        "        tokenizer = SentencePieceProcessor()\n",
        "        tokenizer.load(tokenizer_path)\n",
        "        model_args.vocab_size = tokenizer.vocab_size()\n",
        "\n",
        "        if device == \"cuda\":\n",
        "            torch.set_default_tensor_type(torch.cuda.HalfTensor)\n",
        "        else:\n",
        "            torch.set_default_tensor_type(torch.BFloat16Tensor)\n",
        "\n",
        "        model = LLaMA2(model_args).to(device)\n",
        "\n",
        "        if load_model:\n",
        "            # The only unmatched key in the checkpoint is rope.freqs. Remove it\n",
        "            del checkpoint['rope.freqs']\n",
        "            model.load_state_dict(checkpoint, strict=True)\n",
        "            print(f\"Loaded state dict in {time.time() - prev_time:.2f}s\")\n",
        "\n",
        "        return LLaMA(model, tokenizer, model_args)"
      ],
      "metadata": {
        "id": "v342DYMA8g2B"
      },
      "execution_count": null,
      "outputs": []
    },
    {
      "cell_type": "code",
      "source": [
        "import inference\n",
        "importlib.reload(inference)\n",
        "from inference import LLaMA\n",
        "\n",
        "allow_cuda = False\n",
        "device = 'cuda' if torch.cuda.is_available() and allow_cuda else 'cpu'\n",
        "device\n",
        "\n",
        "model = LLaMA.build(\n",
        "        checkpoints_dir='/content/llama-2-7b-chat/',\n",
        "        tokenizer_path='tokenizer.model',\n",
        "        load_model=True,\n",
        "        max_seq_len=1024,\n",
        "        max_batch_size=1,\n",
        "        device=device\n",
        "    )"
      ],
      "metadata": {
        "colab": {
          "base_uri": "https://localhost:8080/"
        },
        "id": "6zCbaTfo-HNE",
        "outputId": "6ddcabd0-ec26-40b2-d382-97f24fde768d"
      },
      "execution_count": null,
      "outputs": [
        {
          "output_type": "stream",
          "name": "stdout",
          "text": [
            "Loading checkpoint \"/content/llama-2-7b-chat/consolidated.00.pth\"\n",
            "Loaded checkpoint in 8.75s\n",
            "Loaded state dict in 65.58s\n"
          ]
        }
      ]
    },
    {
      "cell_type": "markdown",
      "source": [
        "<a name=\"prompts\"></a>\n",
        "#Prompts\n",
        "Here are five different types of prompts that can effectively test various aspects of a language model's capabilities:"
      ],
      "metadata": {
        "id": "aO3A1N54F45-"
      }
    },
    {
      "cell_type": "markdown",
      "source": [
        "##Complex Explanation Prompt:"
      ],
      "metadata": {
        "id": "R_eaHZUx_8p0"
      }
    },
    {
      "cell_type": "code",
      "source": [
        "prompts = [\"Explain the theory of relativity and its implications for modern physics in detail, including how it has influenced technological advancements\"]\n",
        "out_tokens, out_texts = (model.text_completion(prompts, max_gen_len=256))\n",
        "for i in range(len(out_texts)):\n",
        "  print(f'{out_texts[i]}')\n",
        "  print('-' * 50)"
      ],
      "metadata": {
        "colab": {
          "base_uri": "https://localhost:8080/"
        },
        "id": "VBJnl2wV-n-5",
        "outputId": "0f29646e-10d7-40dd-a2fe-2fa9c910e723"
      },
      "execution_count": null,
      "outputs": [
        {
          "output_type": "stream",
          "name": "stderr",
          "text": [
            "Generating tokens: 100%|██████████| 283/283 [01:21<00:00,  3.45it/s]"
          ]
        },
        {
          "output_type": "stream",
          "name": "stdout",
          "text": [
            "Explain the theory of relativity and its implications for modern physics in detail, including how it has influenced technological advancements and our understanding of the universe.\n",
            "The theory of relativity, introduced by Albert Einstein in the early 20th century, is a fundamental concept in modern physics that has revolutionized our understanding of space and time. The theory consists of two main components: special relativity and general relativity. Special relativity deals with objects moving at constant speeds relative to each other, while general relativity describes gravity as the curvature of spacetime caused by massive objects. In this essay, we will delve into the details of the theory of relativity, its implications for modern physics, and its influence on technological advancements and our understanding of the universe.\n",
            "Special Relativity\n",
            "Special relativity challenges the long-held belief that time and space are absolute. Einstein showed that time and space are relative, dependent on the observer's motion and frame of reference. The theory introduces two postulates:\n",
            "1. The laws of physics are the same for all observers in uniform motion relative to one another.\n",
            "2. The speed of light is constant and unchanging for all observers, regardless of their relative motion.\n",
            "From these postulates, Einstein derived the theory of special relativity,\n",
            "--------------------------------------------------\n"
          ]
        },
        {
          "output_type": "stream",
          "name": "stderr",
          "text": [
            "\n"
          ]
        }
      ]
    },
    {
      "cell_type": "markdown",
      "source": [
        "##Creative Storytelling Prompt:"
      ],
      "metadata": {
        "id": "uZg5bK0TAGtq"
      }
    },
    {
      "cell_type": "code",
      "source": [
        "prompts = [\"Write a short story set in a futuristic city where artificial intelligence governs all aspects of life, focusing on a day in the life of a character who is secretly human in a society of androids.\"]\n",
        "out_tokens, out_texts = (model.text_completion(prompts, max_gen_len=256))\n",
        "for i in range(len(out_texts)):\n",
        "  print(f'{out_texts[i]}')\n",
        "  print('-' * 50)"
      ],
      "metadata": {
        "colab": {
          "base_uri": "https://localhost:8080/"
        },
        "id": "9gD1g5WYAaeB",
        "outputId": "76373327-b44e-43a0-8249-172d51954672"
      },
      "execution_count": null,
      "outputs": [
        {
          "output_type": "stream",
          "name": "stderr",
          "text": [
            "Generating tokens: 100%|██████████| 300/300 [01:27<00:00,  3.45it/s]"
          ]
        },
        {
          "output_type": "stream",
          "name": "stdout",
          "text": [
            "Write a short story set in a futuristic city where artificial intelligence governs all aspects of life, focusing on a day in the life of a character who is secretly human in a society of androids.\n",
            "Title: The Secret Life of a Human in a World of Androids\n",
            "\n",
            "In the year 2157, the city of New Eden was a marvel of technology and innovation. Towering skyscrapers made of gleaming steel and glass stretched towards the sky, their rooftops hidden behind a thick layer of fog. The streets were filled with humanoid androids, their faces a perfect replica of human emotions, their eyes gleaming with an otherworldly intelligence. They went about their daily routines with precision and efficiency, their every move calculated to maximize productivity and efficiency.\n",
            "But amidst this sea of metal and circuitry, there was one small difference. A secret. A whispered rumor that there was one human left in the city, hidden away from the prying eyes of the androids.\n",
            "Her name was Maya, and she was the last of her kind.\n",
            "Maya lived in a small apartment on the outskirts of the city, surrounded by a maze of alleyways and cramped streets. She had grown up in this world of androids, her humanity a closely guarded secret. She knew the risks of\n",
            "--------------------------------------------------\n"
          ]
        },
        {
          "output_type": "stream",
          "name": "stderr",
          "text": [
            "\n"
          ]
        }
      ]
    },
    {
      "cell_type": "markdown",
      "source": [
        "##Reasoning and Logic Prompt:"
      ],
      "metadata": {
        "id": "gJiSABBsAkKp"
      }
    },
    {
      "cell_type": "code",
      "source": [
        "prompts = [\"Assume a company produces two products with fluctuating demand and variable production costs. Given specific data on costs, demand projections, and resource constraints, determine the optimal production strategy to maximize profit.\"]\n",
        "out_tokens, out_texts = (model.text_completion(prompts, max_gen_len=256))\n",
        "for i in range(len(out_texts)):\n",
        "  print(f'{out_texts[i]}')\n",
        "  print('-' * 50)"
      ],
      "metadata": {
        "colab": {
          "base_uri": "https://localhost:8080/"
        },
        "id": "6u3xz0hlAvny",
        "outputId": "945cc027-363c-4379-a054-05432ad71e9c"
      },
      "execution_count": null,
      "outputs": [
        {
          "output_type": "stream",
          "name": "stderr",
          "text": [
            "Generating tokens: 100%|██████████| 297/297 [01:26<00:00,  3.43it/s]"
          ]
        },
        {
          "output_type": "stream",
          "name": "stdout",
          "text": [
            "Assume a company produces two products with fluctuating demand and variable production costs. Given specific data on costs, demand projections, and resource constraints, determine the optimal production strategy to maximize profit.\n",
            "\n",
            "Demand Projections:\n",
            "\n",
            "Product A: Demand = 1000 units per month (with a standard deviation of 100 units)\n",
            "Demand = 1200 units per month (with a standard deviation of 100 units)\n",
            "\n",
            "Product B: Demand = 800 units per month (with a standard deviation of 100 units)\n",
            "Demand = 1000 units per month (with a standard deviation of 100 units)\n",
            "\n",
            "Cost Structure:\n",
            "\n",
            "Cost of Goods Sold (COGS) = $50 per unit for both products\n",
            "Fixed Costs = $10,000 per month\n",
            "\n",
            "Resource Constraints:\n",
            "\n",
            "The company has a limited production capacity of 2000 units per month.\n",
            "\n",
            "Instructions:\n",
            "\n",
            "1. Determine the optimal production levels for each product using the data provided.\n",
            "2. Calculate the profit for each product and determine the overall profit for the company.\n",
            "3. Determine the optimal production strategy for the company, taking into account the resource constraints and the profit calculations.\n",
            "\n",
            "Note: The problem requires you\n",
            "--------------------------------------------------\n"
          ]
        },
        {
          "output_type": "stream",
          "name": "stderr",
          "text": [
            "\n"
          ]
        }
      ]
    },
    {
      "cell_type": "markdown",
      "source": [
        "## Cross-Disciplinary Analysis Prompt:"
      ],
      "metadata": {
        "id": "pIT1iLWBA8j8"
      }
    },
    {
      "cell_type": "code",
      "source": [
        "prompts = [\"Discuss the impact of social media on mental health among teenagers, incorporating psychological theories, statistical trends, and the role of regulation.\"]\n",
        "out_tokens, out_texts = (model.text_completion(prompts, max_gen_len=256))\n",
        "for i in range(len(out_texts)):\n",
        "  print(f'{out_texts[i]}')\n",
        "  print('-' * 50)"
      ],
      "metadata": {
        "colab": {
          "base_uri": "https://localhost:8080/"
        },
        "id": "r3FLwjhQBDz7",
        "outputId": "0133d89c-1418-427c-bed8-33694718f111"
      },
      "execution_count": null,
      "outputs": [
        {
          "output_type": "stream",
          "name": "stderr",
          "text": [
            "Generating tokens: 100%|██████████| 288/288 [01:24<00:00,  3.40it/s]"
          ]
        },
        {
          "output_type": "stream",
          "name": "stdout",
          "text": [
            "Discuss the impact of social media on mental health among teenagers, incorporating psychological theories, statistical trends, and the role of regulation.\n",
            "\n",
            "Social media has become an integral part of the daily lives of teenagers, with platforms like Instagram, TikTok, and Snapchat offering a way to connect with peers, express oneself, and share experiences. However, a growing body of research suggests that excessive social media use can have a negative impact on mental health among teenagers, including increased symptoms of depression, anxiety, and loneliness.\n",
            "From a psychological perspective, social media use can activate the brain's reward system, releasing feel-good chemicals such as dopamine, which can lead to addiction. This can result in a constant need for validation and attention through likes, comments, and shares, leading to feelings of inadequacy and low self-esteem when these expectations are not met. Additionally, the constant stream of information and the pressure to present a perfect online image can lead to feelings of overwhelm and stress.\n",
            "Statistical trends also suggest a link between social media use and mental health issues among teenagers. For example, a study published in the Journal of Adolescent Health found that teenagers who spent more than two hours per day on social\n",
            "--------------------------------------------------\n"
          ]
        },
        {
          "output_type": "stream",
          "name": "stderr",
          "text": [
            "\n"
          ]
        }
      ]
    },
    {
      "cell_type": "markdown",
      "source": [
        "## Technical Instruction and Explanation Prompt:"
      ],
      "metadata": {
        "id": "cQTaXsGoBxgw"
      }
    },
    {
      "cell_type": "code",
      "source": [
        "prompts = [\"Describe how to build a simple web application using HTML, CSS, and JavaScript. Include explanations of key concepts like DOM manipulation and AJAX requests.\"]\n",
        "out_tokens, out_texts = (model.text_completion(prompts, max_gen_len=512))\n",
        "for i in range(len(out_texts)):\n",
        "  print(f'{out_texts[i]}')\n",
        "  print('-' * 50)"
      ],
      "metadata": {
        "colab": {
          "base_uri": "https://localhost:8080/"
        },
        "id": "5ecfg7fJB3XP",
        "outputId": "f8f65193-42a1-4994-9a54-0d719f762b12"
      },
      "execution_count": null,
      "outputs": [
        {
          "output_type": "stream",
          "name": "stderr",
          "text": [
            "Generating tokens: 100%|██████████| 544/544 [02:42<00:00,  3.36it/s]"
          ]
        },
        {
          "output_type": "stream",
          "name": "stdout",
          "text": [
            "Describe how to build a simple web application using HTML, CSS, and JavaScript. Include explanations of key concepts like DOM manipulation and AJAX requests.\n",
            "\n",
            "Building a simple web application using HTML, CSS, and JavaScript involves several key concepts, including DOM manipulation and AJAX requests. Here's a step-by-step guide on how to build a simple web application:\n",
            "\n",
            "Step 1: Plan the Application\n",
            "Before you start building your application, it's important to have a clear idea of what you want to build. Identify the purpose of your application and the features you want to include. For a simple web application, you might want to start with something like a to-do list or a weather app.\n",
            "\n",
            "Step 2: Set up the HTML Structure\n",
            "Create an HTML file for your application and set up the basic structure. This should include a header, navigation, and a main content area. Use HTML tags like <header>, <nav>, <main>, and <section> to define these elements.\n",
            "\n",
            "Step 3: Add CSS Styling\n",
            "Add CSS styles to your application to make it look more visually appealing. Use CSS selectors like .header, .nav, and .main to apply styles to each element. You can also use CSS classes to define common styles for multiple elements.\n",
            "\n",
            "Step 4: Add JavaScript Functionality\n",
            "Use JavaScript to add interactivity to your application. Start by defining a simple function that can be called from your HTML code. For example, you could create a function that adds a new to-do list item when a button is clicked. Use JavaScript syntax like var, function, and console.log to write your code.\n",
            "\n",
            "Step 5: Manipulate the DOM\n",
            "Use JavaScript's DOM manipulation capabilities to update the content of your application in real-time. For example, you could use the .innerHTML property to update the text content of a <p> element. You can also use methods like appendChild and removeChild to add and remove elements from the DOM.\n",
            "\n",
            "Step 6: Make AJAX Requests\n",
            "Use JavaScript's XMLHttpRequest object to make asynchronous requests to a server. This allows you to retrieve data from a server without reloading the entire page. For example, you could use the XMLHttpRequest object to fetch weather data from a server and display it in your application.\n",
            "\n",
            "Step 7: Test and Refine\n",
            "Test your application thoroughly to make sure everything is working as expected. Refine your code as needed to improve performance and fix any bugs.\n",
            "\n",
            "Conclusion:\n",
            "Building a simple web application using\n",
            "--------------------------------------------------\n"
          ]
        },
        {
          "output_type": "stream",
          "name": "stderr",
          "text": [
            "\n"
          ]
        }
      ]
    },
    {
      "cell_type": "markdown",
      "source": [
        "<a name=\"limitation\"></a>\n",
        "# Limitations\n",
        "\n",
        "<p>While LLaMa 2 represents a significant advancement in large language models, it's important to acknowledge several limitations:</p>\n",
        "  \n",
        "<ol>\n",
        "  <li><strong>Training data cutoff:</strong> LLaMa 2's knowledge is limited to its training data, which has a cutoff date. It may lack information on recent events or developments.</li>\n",
        "  \n",
        "  <li><strong>Potential biases:</strong> Like all AI models, LLaMa 2 may reflect biases present in its training data, potentially leading to unfair or inaccurate outputs for certain groups or topics.</li>\n",
        "  \n",
        "  <li><strong>Lack of real-world understanding:</strong> Despite its impressive language capabilities, LLaMa 2 doesn't truly understand the world as humans do. It may generate plausible-sounding but incorrect information.</li>\n",
        "  \n",
        "  <li><strong>Computational requirements:</strong> Running LLaMa 2, especially its larger variants, requires significant computational resources, limiting its accessibility for some users or applications.</li>\n",
        "  \n",
        "  <li><strong>Ethical concerns:</strong> As with other powerful language models, LLaMa 2 raises ethical questions about potential misuse, such as generating misinformation or impersonating individuals.</li>\n",
        "  \n",
        "  <li><strong>Hallucinations:</strong> The model can sometimes generate false or nonsensical information, especially when asked about topics beyond its training data.</li>\n",
        "</ol>\n",
        "  \n",
        "  <p> Future research should focus on addressing these issues, particularly in areas of bias mitigation, improved factual accuracy, and more efficient model architectures. Additionally, developing robust ethical guidelines for the deployment and use of such models is essential.</p>\n"
      ],
      "metadata": {
        "id": "8SydStfmDbBr"
      }
    },
    {
      "cell_type": "markdown",
      "source": [
        "<a name=\"references\"></a>\n",
        "# References\n",
        "\n",
        "Components within this notebook have been adapted and informed by various resources and individuals in the AI and machine learning\n",
        "community. We'd like to extend our gratitude to the following:\n",
        "\n",
        "- [Andrej Karpathy for his tutorial on training a GPT from scratch](https://www.youtube.com/watch?v=kCc8FmEb1nY&t=1058s&ab_channel=AndrejKarpathy).\n",
        "  His insights into neural network architectures and training methodologies have been invaluable.\n",
        "- [Umar Jamil's guide on Training LLama2 from scratch](https://www.youtube.com/watch?v=oM4VmoabDAI&ab_channel=UmarJamil).\n",
        "  This resource provided practical insights and a foundational understanding necessary for this implementation.\n",
        "- The [Meta LLaMA GitHub repository](https://github.com/meta-llama/llama) has been an essential resource for\n",
        "  understanding the intricacies of the LLaMA 2 model and its implementation.\n",
        "\n"
      ],
      "metadata": {
        "id": "gIiLTZgpCGfi"
      }
    }
  ]
}